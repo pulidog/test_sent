{
 "cells": [
  {
   "cell_type": "markdown",
   "metadata": {},
   "source": [
    "## Teste para pegar imagens do SentinelHub\n",
    "Usando:\n",
    "* python 3.6\n",
    "* pandas\n",
    "* geopandas\n",
    "* sentinelhub"
   ]
  },
  {
   "cell_type": "code",
   "execution_count": null,
   "metadata": {},
   "outputs": [],
   "source": [
    "# !pip install geopandas\n",
    "# !pip install sentinelhub\n",
    "\n",
    "# !pip install descartes"
   ]
  },
  {
   "cell_type": "code",
   "execution_count": null,
   "metadata": {},
   "outputs": [],
   "source": [
    "import geopandas as gpd\n",
    "from sentinelhub import BBoxSplitter, OsmSplitter, TileSplitter, CustomGridSplitter, UtmZoneSplitter, UtmGridSplitter\n",
    "from sentinelhub import BBox, read_data, CRS,  DataSource, FisRequest, WcsRequest, MimeType, CustomUrlParam, SHConfig\n",
    "import datetime "
   ]
  },
  {
   "cell_type": "code",
   "execution_count": null,
   "metadata": {},
   "outputs": [],
   "source": [
    "INSTANCE_ID = \"NUMERO DA INSTANCIA NO SENTINELHUB DASHBOARD\""
   ]
  },
  {
   "cell_type": "code",
   "execution_count": null,
   "metadata": {},
   "outputs": [],
   "source": [
    "# Areas para teste formato json\n",
    "# cultura Cana\n",
    "\n",
    "caminho = 'talhoes_teste.geojson'\n",
    "#pandas pega o orquivo dos talhoes\n",
    "gdf = gpd.read_file(caminho)"
   ]
  },
  {
   "cell_type": "code",
   "execution_count": null,
   "metadata": {},
   "outputs": [],
   "source": [
    "# exemplo iter list da geometria para extraer a area que vai pegar a imagem \n",
    "for index , item in gdf.iterrows():\n",
    "        \n",
    "        #o conjunto de talhoes é  dividido \n",
    "        my_talhao = gpd.GeoDataFrame(geometry=[item['geometry']])\n",
    "        # pega as coordenadas do bbox\n",
    "        bbox = my_talhao.total_bounds\n",
    "        # gera o bbox de corte\n",
    "        talhao_bbox = BBox((bbox[0],bbox[1], bbox[2], bbox[3]), CRS.WGS84)\n",
    "        \n",
    "        \n",
    "\n",
    "        # request do layer NDVI \n",
    "        l2a_request = WcsRequest(layer='NDVI',\n",
    "                         bbox= talhao_bbox,\n",
    "                         time=time_interval,\n",
    "                         resx='10m', resy='10m',\n",
    "                         instance_id=INSTANCE_ID,\n",
    "                         config = config,        \n",
    "                         maxcc= 0.1,\n",
    "                         image_format=MimeType.TIFF_d32f,\n",
    "                         custom_url_params={CustomUrlParam.SHOWLOGO: False,\n",
    "                                           CustomUrlParam.TRANSPARENT: True,})\n",
    "        \n",
    "        caminho = \"diretorio onde guarda a imagem'\"\n",
    "        os.makedirs(caminho)\n",
    "        \n",
    "        l2a_request.data_folder = caminho\n",
    "        # salva a imagem \n",
    "        l2a_request.save_data()\n",
    "        "
   ]
  },
  {
   "cell_type": "code",
   "execution_count": null,
   "metadata": {},
   "outputs": [],
   "source": []
  }
 ],
 "metadata": {
  "kernelspec": {
   "display_name": "Python 3",
   "language": "python",
   "name": "python3"
  },
  "language_info": {
   "codemirror_mode": {
    "name": "ipython",
    "version": 3
   },
   "file_extension": ".py",
   "mimetype": "text/x-python",
   "name": "python",
   "nbconvert_exporter": "python",
   "pygments_lexer": "ipython3",
   "version": "3.7.1"
  }
 },
 "nbformat": 4,
 "nbformat_minor": 4
}
